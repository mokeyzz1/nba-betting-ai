{
 "cells": [
  {
   "cell_type": "code",
   "execution_count": 1,
   "metadata": {},
   "outputs": [
    {
     "name": "stdout",
     "output_type": "stream",
     "text": [
      "(1010, 214)\n",
      "Index(['gameId', 'gameDate', 'hometeamCity', 'hometeamName', 'hometeamId',\n",
      "       'awayteamCity', 'awayteamName', 'awayteamId', 'homeScore', 'awayScore',\n",
      "       ...\n",
      "       'AST_RATIO_RANK', 'OREB_PCT_RANK', 'DREB_PCT_RANK', 'REB_PCT_RANK',\n",
      "       'TM_TOV_PCT_RANK', 'EFG_PCT_RANK', 'TS_PCT_RANK', 'PACE_RANK',\n",
      "       'PIE_RANK', 'TEAM_ID'],\n",
      "      dtype='object', length=214)\n",
      "     gameId             gameDate hometeamCity hometeamName  hometeamId  \\\n",
      "0  12400018  2024-10-08 19:30:00      Atlanta        Hawks  1610612737   \n",
      "1  12400046  2024-10-14 19:30:00      Atlanta        Hawks  1610612737   \n",
      "2  22400064  2024-10-23 19:30:00      Atlanta        Hawks  1610612737   \n",
      "3  22400079  2024-10-25 19:30:00      Atlanta        Hawks  1610612737   \n",
      "4  22400103  2024-10-28 19:30:00      Atlanta        Hawks  1610612737   \n",
      "\n",
      "   awayteamCity awayteamName  awayteamId  homeScore  awayScore  ...  \\\n",
      "0       Indiana       Pacers  1610612754        131        130  ...   \n",
      "1  Philadelphia        76ers  1610612755         89        104  ...   \n",
      "2      Brooklyn         Nets  1610612751        120        116  ...   \n",
      "3     Charlotte      Hornets  1610612766        125        120  ...   \n",
      "4    Washington      Wizards  1610612764        119        121  ...   \n",
      "\n",
      "   AST_RATIO_RANK OREB_PCT_RANK  DREB_PCT_RANK  REB_PCT_RANK  TM_TOV_PCT_RANK  \\\n",
      "0               1            16             26            24                6   \n",
      "1              26            10             25            22                2   \n",
      "2              19            12             19            20               14   \n",
      "3              22            27             22            29               21   \n",
      "4               9            30             30            30               16   \n",
      "\n",
      "   EFG_PCT_RANK  TS_PCT_RANK  PACE_RANK  PIE_RANK     TEAM_ID  \n",
      "0             1            3          2        10  1610612754  \n",
      "1            24           19         18        17  1610612755  \n",
      "2            25           27         25        21  1610612751  \n",
      "3            26           28         22        29  1610612766  \n",
      "4            19           22          1        27  1610612764  \n",
      "\n",
      "[5 rows x 214 columns]\n"
     ]
    }
   ],
   "source": [
    "import pandas as pd\n",
    "\n",
    "# Load the dataset\n",
    "df = pd.read_csv(\"your_final_games_data.csv\")\n",
    "\n",
    "# Preview the data\n",
    "print(df.shape)\n",
    "print(df.columns)\n",
    "print(df.head())\n"
   ]
  }
 ],
 "metadata": {
  "kernelspec": {
   "display_name": "nba-env",
   "language": "python",
   "name": "python3"
  },
  "language_info": {
   "codemirror_mode": {
    "name": "ipython",
    "version": 3
   },
   "file_extension": ".py",
   "mimetype": "text/x-python",
   "name": "python",
   "nbconvert_exporter": "python",
   "pygments_lexer": "ipython3",
   "version": "3.11.7"
  }
 },
 "nbformat": 4,
 "nbformat_minor": 2
}
